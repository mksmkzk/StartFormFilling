{
 "cells": [
  {
   "cell_type": "code",
   "execution_count": 2,
   "metadata": {},
   "outputs": [],
   "source": [
    "# Dependencies\n",
    "import pandas as pd\n",
    "import xlwings as xw"
   ]
  },
  {
   "cell_type": "code",
   "execution_count": 3,
   "metadata": {},
   "outputs": [],
   "source": [
    "# Open Excel file\n",
    "filename = fd.askopenfilename(filetypes=[(\"Excel files\", \"*.xlsx\")])"
   ]
  },
  {
   "cell_type": "code",
   "execution_count": 4,
   "metadata": {},
   "outputs": [
    {
     "name": "stdout",
     "output_type": "stream",
     "text": [
      "C:/Users/Maks/OneDrive/Documents/CVC/StartFormFilling/Starts Test/TestStart.xlsx\n"
     ]
    }
   ],
   "source": [
    "print(filename)"
   ]
  },
  {
   "cell_type": "code",
   "execution_count": 5,
   "metadata": {},
   "outputs": [],
   "source": [
    "# Open the Excel file with xlwings\n",
    "wb = xw.Book(filename)\n",
    "\n",
    "SLABS = wb.sheets['START-SLABS']\n",
    "FW = wb.sheets['START-FW']"
   ]
  },
  {
   "cell_type": "code",
   "execution_count": 6,
   "metadata": {},
   "outputs": [],
   "source": [
    "# Get the list of available plans to choose from\n",
    "slabsPlans = []\n",
    "fwPlans = []\n",
    "\n",
    "for i in range(77, 200):\n",
    "    if SLABS.range('F' + str(i)).value is not None:\n",
    "        slabsPlans.append(SLABS.range('F' + str(i) + \":I\" + str(i)).value)\n",
    "\n",
    "for i in range(76, 200):\n",
    "    if FW.range('F' + str(i)).value is not None:\n",
    "        fwPlans.append(FW.range('F' + str(i) + \":I\" + str(i)).value)\n"
   ]
  },
  {
   "cell_type": "code",
   "execution_count": 7,
   "metadata": {},
   "outputs": [
    {
     "data": {
      "text/plain": [
       "[['PLAN ALANA', 'ELV ALL', 'ELV ALL', Decimal('3206')],\n",
       " ['PLAN CLARE', 'ELV ALL', 'ELV ALL', Decimal('4124')],\n",
       " ['PLAN JULIANNA', 'ELV ALL', 'ELV ALL', Decimal('3873')],\n",
       " ['35S PLAN COLBY', 'ELV ALL', 'ELV ALL', Decimal('4433')],\n",
       " ['35S PLAN MCKENNA', 'ELV ALL', 'ELV ALL', Decimal('4130')],\n",
       " ['35S PLAN ZACHARY', 'ELV ALL', 'ELV ALL', Decimal('3828')],\n",
       " ['45S PLAN DENISON', 'ELV ALL', 'ELV ALL', Decimal('3497')],\n",
       " ['45S PLAN KERRY', 'ELV ALL', 'ELV ALL', Decimal('4412')],\n",
       " ['45S PLAN PIERCE', 'ELV ALL', 'ELV ALL', Decimal('4731')],\n",
       " ['55S PLAN BENTLEY', 'ELV ALL', 'ELV ALL', Decimal('5748')],\n",
       " ['55S PLAN MARTINE', 'ELV ALL', 'ELV ALL', Decimal('5909')],\n",
       " ['55S PLAN MARTINE', 'OPT RV', 'OPT RV', Decimal('-701')],\n",
       " ['55S PLAN RONDA', 'ELV ALL', 'ELV ALL', Decimal('5190')]]"
      ]
     },
     "execution_count": 7,
     "metadata": {},
     "output_type": "execute_result"
    }
   ],
   "source": [
    "fwPlans"
   ]
  },
  {
   "cell_type": "code",
   "execution_count": null,
   "metadata": {},
   "outputs": [],
   "source": []
  }
 ],
 "metadata": {
  "kernelspec": {
   "display_name": "Python 3.10.1 64-bit",
   "language": "python",
   "name": "python3"
  },
  "language_info": {
   "codemirror_mode": {
    "name": "ipython",
    "version": 3
   },
   "file_extension": ".py",
   "mimetype": "text/x-python",
   "name": "python",
   "nbconvert_exporter": "python",
   "pygments_lexer": "ipython3",
   "version": "3.10.1"
  },
  "orig_nbformat": 4,
  "vscode": {
   "interpreter": {
    "hash": "7b7b420d20f2322f65523a2f8e277c8414018eeb5ae0cd072ccb004c1cae25f0"
   }
  }
 },
 "nbformat": 4,
 "nbformat_minor": 2
}
