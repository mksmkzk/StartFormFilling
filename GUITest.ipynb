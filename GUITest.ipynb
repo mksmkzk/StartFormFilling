{
 "cells": [
  {
   "cell_type": "code",
   "execution_count": 1,
   "metadata": {},
   "outputs": [],
   "source": [
    "# Dependencies\n",
    "import tkinter as tk\n",
    "import tkinter.ttk as ttk\n",
    "from tkinter import filedialog as fd\n",
    "\n",
    "import pandas as pd\n",
    "import xlwings as xw"
   ]
  },
  {
   "cell_type": "code",
   "execution_count": 48,
   "metadata": {},
   "outputs": [
    {
     "name": "stdout",
     "output_type": "stream",
     "text": [
      "['Standard', 'Premium', 'Premium', 'Standard', 'Premium', 'Premium']\n"
     ]
    }
   ],
   "source": [
    "# Create our window that will hold our widgets\n",
    "root=tk.Tk()\n",
    "root.title(\"STARTS Excel Helper\")\n",
    "root.geometry(\"750x400\")\n",
    "\n",
    "opt_count = 0\n",
    "\n",
    "class Window:\n",
    "\n",
    "    opt_entries = []\n",
    "\n",
    "    def __init__(self, master):\n",
    "\n",
    "        self.master = master\n",
    "        lot_var= tk.StringVar()\n",
    "        address_var= tk.StringVar()\n",
    "        gar_orr_var = tk.StringVar()\n",
    "        \n",
    "        gar_orr_options = ['LEFT', 'CENTER', 'RIGHT']\n",
    "\n",
    "        lot_label = tk.Label(root, text = 'Lot #', font=('calibre',10, 'bold')) \n",
    "        lot_entry = tk.Entry(root,textvariable = lot_var, font=('calibre',10,'normal'))\n",
    "        \n",
    "        address_label = tk.Label(root, text = 'Address', font = ('calibre',10,'bold'))\n",
    "        address_entry=tk.Entry(root, textvariable = address_var, font = ('calibre',10,'normal'))\n",
    "\n",
    "        gar_orr_label = tk.Label(root, text = 'Garage Orientation', font = ('calibre',10,'bold'))\n",
    "        gar_orr_combo=ttk.Combobox(root, values= gar_orr_options)\n",
    "\n",
    "        plan_label = tk.Label(root, text = 'Type of Plan', font = ('calibre',10,'bold'))\n",
    "        plan_combo=ttk.Combobox(root, values= ['Standard', 'Premium'])\n",
    "        \n",
    "        # creating a button using the widget\n",
    "        load_file_btn=tk.Button(root,text = 'Load Excel File', command = self.OpenFile)\n",
    "        done_btn=tk.Button(root,text = 'Done', command = self.Close)\n",
    "        add_opt_btn=tk.Button(root,text = 'Add Options', command = self.AddOptions)\n",
    "\n",
    "        # Placing the entries and button in a grid\n",
    "        lot_label.grid(row=0,column=0)\n",
    "        lot_entry.grid(row=1,column=0)\n",
    "        address_label.grid(row=0,column=1)\n",
    "        address_entry.grid(row=1,column=1)\n",
    "        gar_orr_label.grid(row=0,column=2)\n",
    "        gar_orr_combo.grid(row=1,column=2)\n",
    "        plan_label.grid(row=0,column=3)\n",
    "        plan_combo.grid(row=1,column=3)\n",
    "        add_opt_btn.grid(row=2,column=1)\n",
    "        load_file_btn.grid(row=15,column=0, pady=200)\n",
    "        done_btn.grid(row=15,column=10, pady = 200)\n",
    "    \n",
    "    # Function to load the excel file\n",
    "    def OpenFile(self):\n",
    "        # opening the file\n",
    "        file = fd.askopenfile(mode='r', filetypes=[('Excel', '*.xlsx')])\n",
    "\n",
    "\n",
    "    # Function to add new option to the entry\n",
    "    def AddOptions(self):\n",
    "        global opt_count\n",
    "        MAX_OPTIONS = 6\n",
    "        if opt_count < MAX_OPTIONS:\n",
    "            opt_label = tk.Label(root, text = 'Option ' + str(opt_count + 1), font = ('calibre',10,'bold'))\n",
    "            opt_label.grid(row=2 + opt_count,column=2)\n",
    "    \n",
    "            self.opt_entries.append(ttk.Combobox(root, values= ['Standard', 'Premium']))\n",
    "            self.opt_entries[-1].grid(row=2+ opt_count,column=3)\n",
    "            opt_count += 1\n",
    "\n",
    "    # Function to close the window\n",
    "    def Close(self):\n",
    "        print(list(map(lambda x: x.get(), self.opt_entries)))\n",
    "        root.destroy()\n",
    "\n",
    "  \n",
    "# performing an infinite loop\n",
    "# for the window to display\n",
    "window = Window(root)\n",
    "root.mainloop()"
   ]
  },
  {
   "cell_type": "code",
   "execution_count": null,
   "metadata": {},
   "outputs": [],
   "source": []
  },
  {
   "cell_type": "code",
   "execution_count": null,
   "metadata": {},
   "outputs": [],
   "source": []
  }
 ],
 "metadata": {
  "kernelspec": {
   "display_name": "Python 3.10.1 64-bit",
   "language": "python",
   "name": "python3"
  },
  "language_info": {
   "codemirror_mode": {
    "name": "ipython",
    "version": 3
   },
   "file_extension": ".py",
   "mimetype": "text/x-python",
   "name": "python",
   "nbconvert_exporter": "python",
   "pygments_lexer": "ipython3",
   "version": "3.10.1"
  },
  "orig_nbformat": 4,
  "vscode": {
   "interpreter": {
    "hash": "7b7b420d20f2322f65523a2f8e277c8414018eeb5ae0cd072ccb004c1cae25f0"
   }
  }
 },
 "nbformat": 4,
 "nbformat_minor": 2
}
