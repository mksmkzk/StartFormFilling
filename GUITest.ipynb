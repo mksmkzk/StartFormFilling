{
 "cells": [
  {
   "cell_type": "code",
   "execution_count": 1,
   "metadata": {},
   "outputs": [],
   "source": [
    "import tkinter as tk\n",
    "import tkinter.ttk as ttk\n",
    "from tkinter import filedialog as fd"
   ]
  },
  {
   "cell_type": "code",
   "execution_count": 3,
   "metadata": {},
   "outputs": [],
   "source": [
    "root=tk.Tk()\n",
    " \n",
    "# setting the windows size\n",
    "root.geometry(\"600x400\")\n",
    "  \n",
    "# declaring string variable\n",
    "# for storing name and password\n",
    "lot_var=tk.StringVar()\n",
    "address_var=tk.StringVar()\n",
    "gar_orr_var = tk.StringVar()\n",
    "\n",
    "gar_orr_options = ['LEFT', 'RIGHT', 'CENTER']\n",
    "\n",
    " \n",
    "  \n",
    "# defining a function that will\n",
    "# get the name and password and\n",
    "# print them on the screen\n",
    "# def submit():\n",
    " \n",
    "#     lot = lot_var.get()\n",
    "#     address = address_var.get()\n",
    "     \n",
    "#     print(\"The name is : \" + lot)\n",
    "#     print(\"The password is : \" + address)\n",
    "     \n",
    "#     lot_var.set(\"\")\n",
    "#     address_var.set(\"\")\n",
    "     \n",
    "     \n",
    "\n",
    "\n",
    "lot_label = tk.Label(root, text = 'Lot #', font=('calibre',10, 'bold')) \n",
    "lot_entry = tk.Entry(root,textvariable = lot_var, font=('calibre',10,'normal'))\n",
    "  \n",
    "address_label = tk.Label(root, text = 'Address', font = ('calibre',10,'bold'))\n",
    "address_entry=tk.Entry(root, textvariable = address_var, font = ('calibre',10,'normal'))\n",
    "\n",
    "gar_orr_label = tk.Label(root, text = 'Garage Orientation', font = ('calibre',10,'bold'))\n",
    "gar_orr_drop=tk.OptionMenu(root, gar_orr_var, *gar_orr_options)\n",
    "  \n",
    "# creating a button using the widget\n",
    "#sub_btn=tk.Button(root,text = 'Submit', command = submit)\n",
    "  \n",
    "# Placing the entries and button in a grid\n",
    "lot_label.grid(row=0,column=0)\n",
    "lot_entry.grid(row=1,column=0)\n",
    "address_label.grid(row=0,column=1)\n",
    "address_entry.grid(row=1,column=1)\n",
    "gar_orr_label.grid(row=0,column=2)\n",
    "gar_orr_drop.grid(row=1,column=2)\n",
    "#sub_btn.grid(row=2,column=1)\n",
    "  \n",
    "# performing an infinite loop\n",
    "# for the window to display\n",
    "root.mainloop()"
   ]
  },
  {
   "cell_type": "code",
   "execution_count": null,
   "metadata": {},
   "outputs": [],
   "source": []
  }
 ],
 "metadata": {
  "kernelspec": {
   "display_name": "Python 3.10.1 64-bit",
   "language": "python",
   "name": "python3"
  },
  "language_info": {
   "codemirror_mode": {
    "name": "ipython",
    "version": 3
   },
   "file_extension": ".py",
   "mimetype": "text/x-python",
   "name": "python",
   "nbconvert_exporter": "python",
   "pygments_lexer": "ipython3",
   "version": "3.10.1"
  },
  "orig_nbformat": 4,
  "vscode": {
   "interpreter": {
    "hash": "7b7b420d20f2322f65523a2f8e277c8414018eeb5ae0cd072ccb004c1cae25f0"
   }
  }
 },
 "nbformat": 4,
 "nbformat_minor": 2
}
