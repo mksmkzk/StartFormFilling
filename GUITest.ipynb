{
 "cells": [
  {
   "cell_type": "code",
   "execution_count": 2,
   "metadata": {},
   "outputs": [],
   "source": [
    "# Dependencies\n",
    "import tkinter as tk\n",
    "import tkinter.ttk as ttk\n",
    "from tkinter import filedialog as fd"
   ]
  },
  {
   "cell_type": "code",
   "execution_count": 3,
   "metadata": {},
   "outputs": [],
   "source": [
    "# Global Variables\n",
    "opt_count = 0"
   ]
  },
  {
   "cell_type": "code",
   "execution_count": 4,
   "metadata": {},
   "outputs": [],
   "source": [
    "\n",
    "# Main window which will have you select the start file to load.\n",
    "class App(tk.Tk):\n",
    "    def __init__(self):\n",
    "        self.title(\"Load Excel File\")\n",
    "        self.geometry(\"200x200\")\n",
    "        load_file_label = tk.Label(self, text=\"Select START to Load\")\n",
    "        load_file_label.pack()\n",
    "        load_file_btn=tk.Button(self,text = 'Load Excel File', command = self.OpenFile)\n",
    "        load_file_btn.pack()\n",
    "    \n",
    "    # Function to load the excel file\n",
    "    def OpenFile(self):\n",
    "        # opening the file\n",
    "        file = fd.askopenfile(mode='r', filetypes=[('Excel', '*.xlsx')])\n",
    "        # print(file)\n",
    "        window = ExcelWindow(self)\n",
    "        window.grab_set()\n",
    "\n"
   ]
  },
  {
   "cell_type": "code",
   "execution_count": 5,
   "metadata": {},
   "outputs": [],
   "source": [
    "# This is the window which will have the entry fields needed for the START file.\n",
    "class ExcelWindow(tk.Toplevel):\n",
    "    opt_entries = []\n",
    "\n",
    "    def __init__(self, parent):\n",
    "        super().__init__(parent)\n",
    "\n",
    "        self.title(\"STARTS Excel Helper\")\n",
    "        self.geometry(\"750x400\")\n",
    "\n",
    "        lot_var= tk.StringVar()\n",
    "        address_var= tk.StringVar()\n",
    "        gar_orr_var = tk.StringVar()\n",
    "        \n",
    "        gar_orr_options = ['LEFT', 'CENTER', 'RIGHT']\n",
    "\n",
    "        lot_label = tk.Label(self, text = 'Lot #', font=('calibre',10, 'bold')) \n",
    "        lot_entry = tk.Entry(self,textvariable = lot_var, font=('calibre',10,'normal'))\n",
    "        \n",
    "        address_label = tk.Label(self, text = 'Address', font = ('calibre',10,'bold'))\n",
    "        address_entry=tk.Entry(self, textvariable = address_var, font = ('calibre',10,'normal'))\n",
    "\n",
    "        gar_orr_label = tk.Label(self, text = 'Garage Orientation', font = ('calibre',10,'bold'))\n",
    "        gar_orr_combo=ttk.Combobox(self, values= gar_orr_options)\n",
    "\n",
    "        plan_label = tk.Label(self, text = 'Type of Plan', font = ('calibre',10,'bold'))\n",
    "        plan_combo=ttk.Combobox(self, values= ['Standard', 'Premium'])\n",
    "        \n",
    "        # creating a button using the widget\n",
    "        done_btn=tk.Button(self,text = 'Done', command = self.Close)\n",
    "        add_opt_btn=tk.Button(self,text = 'Add Options', command = self.AddOptions)\n",
    "\n",
    "        # Placing the entries and button in a grid\n",
    "        lot_label.grid(row=0,column=0)\n",
    "        lot_entry.grid(row=1,column=0)\n",
    "        address_label.grid(row=0,column=1)\n",
    "        address_entry.grid(row=1,column=1)\n",
    "        gar_orr_label.grid(row=0,column=2)\n",
    "        gar_orr_combo.grid(row=1,column=2)\n",
    "        plan_label.grid(row=0,column=3)\n",
    "        plan_combo.grid(row=1,column=3)\n",
    "        add_opt_btn.grid(row=2,column=1)\n",
    "        done_btn.grid(row=15,column=10, pady = 200)\n",
    "\n",
    "    # Function to add new option to the entry\n",
    "    def AddOptions(self):\n",
    "        global opt_count\n",
    "        MAX_OPTIONS = 6\n",
    "        if opt_count < MAX_OPTIONS:\n",
    "            opt_label = tk.Label(self, text = 'Option ' + str(opt_count + 1), font = ('calibre',10,'bold'))\n",
    "            opt_label.grid(row=2 + opt_count,column=2)\n",
    "    \n",
    "            self.opt_entries.append(ttk.Combobox(self, values= ['Standard', 'Premium']))\n",
    "            self.opt_entries[-1].grid(row=2+ opt_count,column=3)\n",
    "            opt_count += 1\n",
    "\n",
    "    # Function to close the window\n",
    "    def Close(self):\n",
    "        print(list(map(lambda x: x.get(), self.opt_entries)))\n",
    "        self.destroy()"
   ]
  },
  {
   "cell_type": "code",
   "execution_count": 6,
   "metadata": {},
   "outputs": [
    {
     "ename": "",
     "evalue": "",
     "output_type": "error",
     "traceback": [
      "\u001b[1;31mCanceled future for execute_request message before replies were done"
     ]
    },
    {
     "ename": "",
     "evalue": "",
     "output_type": "error",
     "traceback": [
      "\u001b[1;31mThe Kernel crashed while executing code in the the current cell or a previous cell. Please review the code in the cell(s) to identify a possible cause of the failure. Click <a href='https://aka.ms/vscodeJupyterKernelCrash'>here</a> for more info. View Jupyter <a href='command:jupyter.viewOutput'>log</a> for further details."
     ]
    }
   ],
   "source": [
    "\n",
    "app = App()\n",
    "app.mainloop()"
   ]
  },
  {
   "cell_type": "code",
   "execution_count": null,
   "metadata": {},
   "outputs": [],
   "source": []
  }
 ],
 "metadata": {
  "kernelspec": {
   "display_name": "Python 3.10.1 64-bit",
   "language": "python",
   "name": "python3"
  },
  "language_info": {
   "codemirror_mode": {
    "name": "ipython",
    "version": 3
   },
   "file_extension": ".py",
   "mimetype": "text/x-python",
   "name": "python",
   "nbconvert_exporter": "python",
   "pygments_lexer": "ipython3",
   "version": "3.10.1"
  },
  "orig_nbformat": 4,
  "vscode": {
   "interpreter": {
    "hash": "7b7b420d20f2322f65523a2f8e277c8414018eeb5ae0cd072ccb004c1cae25f0"
   }
  }
 },
 "nbformat": 4,
 "nbformat_minor": 2
}
