{
 "cells": [
  {
   "cell_type": "code",
   "execution_count": 4,
   "metadata": {},
   "outputs": [],
   "source": [
    "# Dependencies\n",
    "import pandas as pd\n",
    "import xlwings as xw\n",
    "import tkinter as tk\n",
    "import tkinter.ttk as ttk\n",
    "from tkinter import filedialog as fd"
   ]
  },
  {
   "cell_type": "code",
   "execution_count": 6,
   "metadata": {},
   "outputs": [],
   "source": [
    "# Open Excel file\n",
    "filename = fd.askopenfilename(filetypes=[(\"Excel files\", \"*.xlsx\")])"
   ]
  },
  {
   "cell_type": "code",
   "execution_count": 7,
   "metadata": {},
   "outputs": [
    {
     "name": "stdout",
     "output_type": "stream",
     "text": [
      "C:/Users/MaksK/Documents/Github/StartFormFilling/Starts Test/TestStart.xlsx\n"
     ]
    }
   ],
   "source": [
    "print(filename)"
   ]
  },
  {
   "cell_type": "code",
   "execution_count": 9,
   "metadata": {},
   "outputs": [],
   "source": [
    "# Open the Excel file with xlwings\n",
    "wb = xw.Book(filename)\n",
    "\n",
    "SLABS = wb.sheets['START-SLABS']\n",
    "FW = wb.sheets['START-FW']"
   ]
  },
  {
   "cell_type": "code",
   "execution_count": 11,
   "metadata": {},
   "outputs": [],
   "source": [
    "# Get the list of available plans to choose from\n",
    "slabsPlans = SLABS.range('F77:I200').value\n",
    "fwPlans = FW.range('F76:I200').value"
   ]
  },
  {
   "cell_type": "code",
   "execution_count": 12,
   "metadata": {},
   "outputs": [
    {
     "data": {
      "text/plain": [
       "[[None, None, None, None],\n",
       " ['PLAN ALANA', 'ELV ALL', 'ELV ALL', Decimal('26233')],\n",
       " [None, None, None, None],\n",
       " ['PLAN CLARE', 'ELV ALL', 'ELV ALL', Decimal('26456')],\n",
       " [None, None, None, None],\n",
       " ['PLAN JULIANNA', 'ELV ALL', 'ELV ALL', Decimal('26553')],\n",
       " [None, None, None, None],\n",
       " ['GLENRIDGE G2 (DUET)', None, 'ZERO THRES. SHOWER', Decimal('770')],\n",
       " [None, None, None, None],\n",
       " ['35S PLAN COLBY', 'ELV ALL', 'ELV ALL', Decimal('29312')],\n",
       " [None, None, None, None],\n",
       " ['35S PLAN MCKENNA', 'ELV ALL', 'ELV ALL', Decimal('29989')],\n",
       " [None, None, None, None],\n",
       " ['35S PLAN ZACHARY', 'ELV ITAL/FARM', 'ELV ITAL/FARM', Decimal('32004')],\n",
       " ['35S PLAN ZACHARY', 'ELV PRARIE', 'ELV PRARIE', Decimal('32118')],\n",
       " [None, None, None, None],\n",
       " ['OAKHILL PLAN ALL',\n",
       "  'ZERO THRES. SHOWER',\n",
       "  'ZERO THRES. SHOWER',\n",
       "  Decimal('770')],\n",
       " [None, None, None, None],\n",
       " ['45S PLAN DENISON', 'ELV ALL', 'ELV ALL', Decimal('38757')],\n",
       " ['45S PLAN DENISON', 'OPT FP', 'OPT FP', Decimal('171')],\n",
       " [None, None, None, None],\n",
       " ['45S PLAN KERRY', 'ELV ALL', 'ELV ALL', Decimal('39896')],\n",
       " [None, None, None, None],\n",
       " ['45S PLAN PIERCE', 'ELV ALL', 'ELV ALL', Decimal('40587')],\n",
       " [None, None, None, None],\n",
       " ['SAGE MEADOW ALL', None, 'ZERO THRES. SHOWER', Decimal('770')],\n",
       " [None, None, None, None],\n",
       " ['55S PLAN BENTLEY', 'ELV ALL', 'ELV ALL', Decimal('41008')],\n",
       " [None, None, None, None],\n",
       " ['55S PLAN MARTINE', 'ELV ALL', 'ELV ALL', Decimal('41918')],\n",
       " ['55S PLAN MARTINE', 'OPT RV', 'OPT RV', Decimal('1653')],\n",
       " [None, None, None, None],\n",
       " ['55S PLAN RONDA', 'ELV ALL', 'ELV ALL', Decimal('42306')],\n",
       " [None, None, None, None],\n",
       " ['WINDSONG VE ALL', None, 'ZERO THRES. SHOWER', Decimal('770')],\n",
       " [None, None, None, None],\n",
       " ['ALT 01', 'CUTTING GRG PADS', 'CUTTING GRG PADS', 200.0],\n",
       " ['ALT 02', 'DIG PLUMB TRENCH', 'DIG PLUMB TRENCH', 'INCLUDED'],\n",
       " ['ALT 03', 'MOVE SPOILS', 'MOVE SPOILS', 300.0],\n",
       " ['ALT 06', 'BLANKETING-PAD TO POUR', 'BLANKETING-PAD TO POUR', 1750.0],\n",
       " ['ALT 06', 'BLANKETING-AT POUR', 'BLANKETING-AT POUR', 975.0],\n",
       " [None, None, None, None],\n",
       " [None, None, None, None],\n",
       " [None, None, None, None],\n",
       " [None, None, None, None],\n",
       " [None, None, None, None],\n",
       " [None, None, None, None],\n",
       " [None, None, None, None],\n",
       " [None, None, None, None],\n",
       " [None, None, None, None],\n",
       " [None, None, None, None],\n",
       " [None, None, None, None],\n",
       " [None, None, None, None],\n",
       " [None, None, None, None],\n",
       " [None, None, None, None],\n",
       " [None, None, None, None],\n",
       " [None, None, None, None],\n",
       " [None, None, None, None],\n",
       " [None, None, None, None],\n",
       " [None, None, None, None],\n",
       " [None, None, None, None],\n",
       " [None, None, None, None],\n",
       " [None, None, None, None],\n",
       " [None, None, None, None],\n",
       " [None, None, None, None],\n",
       " [None, None, None, None],\n",
       " [None, None, None, None],\n",
       " [None, None, None, None],\n",
       " [None, None, None, None],\n",
       " [None, None, None, None],\n",
       " [None, None, None, None],\n",
       " [None, None, None, None],\n",
       " [None, None, None, None],\n",
       " [None, None, None, None],\n",
       " [None, None, None, None],\n",
       " [None, None, None, None],\n",
       " [None, None, None, None],\n",
       " [None, None, None, None],\n",
       " [None, None, None, None],\n",
       " [None, None, None, None],\n",
       " [None, None, None, None],\n",
       " [None, None, None, None],\n",
       " [None, None, None, None],\n",
       " [None, None, None, None],\n",
       " [None, None, None, None],\n",
       " [None, None, None, None],\n",
       " [None, None, None, None],\n",
       " [None, None, None, None],\n",
       " [None, None, None, None],\n",
       " [None, None, None, None],\n",
       " [None, None, None, None],\n",
       " [None, None, None, None],\n",
       " [None, None, None, None],\n",
       " [None, None, None, None],\n",
       " [None, None, None, None],\n",
       " [None, None, None, None],\n",
       " [None, None, None, None],\n",
       " [None, None, None, None],\n",
       " [None, None, None, None],\n",
       " [None, None, None, None],\n",
       " [None, None, None, None],\n",
       " [None, None, None, None],\n",
       " [None, None, None, None],\n",
       " [None, None, None, None],\n",
       " [None, None, None, None],\n",
       " [None, None, None, None],\n",
       " [None, None, None, None],\n",
       " [None, None, None, None],\n",
       " [None, None, None, None],\n",
       " [None, None, None, None],\n",
       " [None, None, None, None],\n",
       " [None, None, None, None],\n",
       " [None, None, None, None],\n",
       " [None, None, None, None],\n",
       " [None, None, None, None],\n",
       " [None, None, None, None],\n",
       " [None, None, None, None],\n",
       " [None, None, None, None],\n",
       " [None, None, None, None],\n",
       " [None, None, None, None],\n",
       " [None, None, None, None],\n",
       " [None, None, None, None],\n",
       " [None, None, None, None],\n",
       " [None, None, None, None]]"
      ]
     },
     "execution_count": 12,
     "metadata": {},
     "output_type": "execute_result"
    }
   ],
   "source": [
    "slabsPlans"
   ]
  },
  {
   "cell_type": "code",
   "execution_count": null,
   "metadata": {},
   "outputs": [],
   "source": []
  }
 ],
 "metadata": {
  "kernelspec": {
   "display_name": "Python 3.10.5 64-bit",
   "language": "python",
   "name": "python3"
  },
  "language_info": {
   "codemirror_mode": {
    "name": "ipython",
    "version": 3
   },
   "file_extension": ".py",
   "mimetype": "text/x-python",
   "name": "python",
   "nbconvert_exporter": "python",
   "pygments_lexer": "ipython3",
   "version": "3.10.5"
  },
  "orig_nbformat": 4,
  "vscode": {
   "interpreter": {
    "hash": "66b3f03040d0ce64b2ab03af985ebaa451e47eb40bfedc23f75d471e58521649"
   }
  }
 },
 "nbformat": 4,
 "nbformat_minor": 2
}
